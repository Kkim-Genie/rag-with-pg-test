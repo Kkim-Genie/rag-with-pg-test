{
 "cells": [
  {
   "cell_type": "code",
   "execution_count": 2,
   "metadata": {},
   "outputs": [
    {
     "name": "stderr",
     "output_type": "stream",
     "text": [
      "/Users/jang-wonjun/Desktop/Dev/economy-market-crawler/venv/lib/python3.13/site-packages/tqdm/auto.py:21: TqdmWarning: IProgress not found. Please update jupyter and ipywidgets. See https://ipywidgets.readthedocs.io/en/stable/user_install.html\n",
      "  from .autonotebook import tqdm as notebook_tqdm\n"
     ]
    }
   ],
   "source": [
    "from transformers import AutoTokenizer, AutoModelForSequenceClassification\n",
    "import torch\n",
    "import torch.nn.functional as F"
   ]
  },
  {
   "cell_type": "code",
   "execution_count": 3,
   "metadata": {},
   "outputs": [],
   "source": [
    "# 모델 이름\n",
    "model_name = \"ProsusAI/finbert\"\n",
    "\n",
    "# 토크나이저와 모델 불러오기\n",
    "tokenizer = AutoTokenizer.from_pretrained(model_name)\n",
    "model = AutoModelForSequenceClassification.from_pretrained(model_name)"
   ]
  },
  {
   "cell_type": "code",
   "execution_count": null,
   "metadata": {},
   "outputs": [],
   "source": [
    "# 감정 분류 라벨\n",
    "labels = ['positive', 'neutral', 'negative']\n",
    "\n",
    "# 분석할 문장\n",
    "sentence = \"\"\"2025-03-19,nvda,Nvidia GTC: What could lift the chip stock back up in 2025?,https://finance.yahoo.com/video/nvidia-gtc-could-lift-chip-232000082.html,\"Nvidia (NVDA) CEO Jensen Huang took to the stage Tuesday afternoon to deliver his keynote speech at the chip giant's 2025 GTC event (GPU Technology Conference), where he previewed the company's next-generation Vera Rubin superchip, its self-driving partnership with General Motors (GM), and vision for the future of robotics and AI.\n",
    "Benchmark Company managing director and senior semiconductor research analyst Cody Acree sits down with Market Domination's Julie Hyman and Josh Lipton to talk about what could be the next catalyst for Nvidia's stock in 2025 and the current state of demand for Nvidia chips.\n",
    "Catch Cody Acree's full interview by clicking here, and also check Yahoo Finance tech editor Dan Howley's biggest takeaways from Nvidia CEO Jensen Huang's keynote speech.\n",
    "To watch more expert insights and analysis on the latest market action, check out more Market Domination here.\",\"Nvidia의 CEO Jensen Huang은 2025년 GTC 행사에서 차세대 Vera Rubin 슈퍼칩, 제너럴 모터스(GM)와의 자율주행 협력, 로보틱스 및 AI의 미래 비전을 발표했습니다. 이 발표는 Nvidia 주식의 새로운 성장 동력이 될 가능성이 있습니다. 또한 Benchmark Company의 Cody Acree는 Nvidia 주식의 2025년 촉매제가 될 요소와 현재의 칩 수요 상태에 대해 논의했습니다. 이 인터뷰와 함께 Nvidia의 경영진 발표에 대한 자세한 분석은 Market Domination을 통해 확인할 수 있습니다.\",0.0020075\" \\\n",
    "\"\"\"\n",
    "\n",
    "# 입력 텐서로 변환\n",
    "inputs = tokenizer(sentence, return_tensors=\"pt\", truncation=True, max_length=512)"
   ]
  },
  {
   "cell_type": "code",
   "execution_count": 9,
   "metadata": {},
   "outputs": [
    {
     "name": "stdout",
     "output_type": "stream",
     "text": [
      "positive: 0.0773\n",
      "neutral: 0.0139\n",
      "negative: 0.9088\n"
     ]
    }
   ],
   "source": [
    "# 모델 예측\n",
    "with torch.no_grad():\n",
    "    outputs = model(**inputs)\n",
    "    logits = outputs.logits\n",
    "    probs = F.softmax(logits, dim=1)[0]\n",
    "\n",
    "# 결과 출력\n",
    "for label, prob in zip(labels, probs):\n",
    "    print(f\"{label}: {prob.item():.4f}\")"
   ]
  },
  {
   "cell_type": "code",
   "execution_count": null,
   "metadata": {},
   "outputs": [],
   "source": []
  }
 ],
 "metadata": {
  "kernelspec": {
   "display_name": "venv",
   "language": "python",
   "name": "python3"
  },
  "language_info": {
   "codemirror_mode": {
    "name": "ipython",
    "version": 3
   },
   "file_extension": ".py",
   "mimetype": "text/x-python",
   "name": "python",
   "nbconvert_exporter": "python",
   "pygments_lexer": "ipython3",
   "version": "3.13.2"
  }
 },
 "nbformat": 4,
 "nbformat_minor": 2
}
