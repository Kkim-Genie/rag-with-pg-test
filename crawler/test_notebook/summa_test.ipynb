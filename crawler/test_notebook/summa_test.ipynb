{
 "cells": [
  {
   "cell_type": "code",
   "execution_count": 1,
   "metadata": {},
   "outputs": [],
   "source": [
    "from summa import summarizer\n",
    "from summa import keywords"
   ]
  },
  {
   "cell_type": "code",
   "execution_count": 2,
   "metadata": {},
   "outputs": [
    {
     "name": "stdout",
     "output_type": "stream",
     "text": [
      "In a grandmaster-level chess move, OpenAI has signed a five-year, $11.9 billion agreement with the GPU-heavy cloud service provider CoreWeave, according to Reuters, which cites people close to the deal.\n",
      "Landing OpenAI as a direct customer in a multi-billion-dollar deal should help CoreWeave appease investors.\n",
      "It’s as if OpenAI CEO Sam Altman saw Microsoft’s usage of CoreWeave and said, “Hold my beer.”\n",
      "In January, as part of the massive Stargate AI infrastructure deal with SoftBank, Oracle, and others, Microsoft ceased being OpenAI’s sole cloud provider.\n",
      "keyWords:  grandmaster chess, usually worrisome, eye, product, eightfold increase, oracle\n"
     ]
    }
   ],
   "source": [
    "content = \"\"\"\n",
    "In a grandmaster-level chess move, OpenAI has signed a five-year, $11.9 billion agreement with the GPU-heavy cloud service provider CoreWeave, according to Reuters, which cites people close to the deal.\n",
    "The deal involves OpenAI receiving $350 million worth of equity in CoreWeave, the sources told Reuters. The private placement is said to be separate from CoreWeave’s planned IPO.\n",
    "CoreWeave filed to become a public company last week, but it has not yet priced or scheduled its debut.\n",
    "It's a win for both companies. One reason this agreement is so eye-popping (besides the billions involved) is that before this deal, CoreWeave’s biggest customer was Microsoft. In fact, in 2024, Microsoft accounted for 62% of CoreWeave's revenue, which grew to a stunning $1.9 billion -- nearly an eightfold increase from just $228.9 million in 2023.\n",
    "Backed by Nvidia, which holds a 6% stake, CoreWeave runs an AI-specific cloud service with a network of 32 data centers that operated more than 250,000 Nvidia GPUs as of the end of 2024, according to the company. Since then, CoreWeave has added more GPUs, including Nvidia’s latest product, Blackwell, which supports AI reasoning, the company said.\n",
    "Such dependence on one customer is usually worrisome for IPO investors and could have added “hair\" as they say, to CoreWeave’s hopes of raising $4 billion or more in its IPO. Landing OpenAI as a direct customer in a multi-billion-dollar deal should help CoreWeave appease investors.\n",
    "What makes this move equally interesting is that it’s another step in the deteriorating, frenemies relationship between Microsoft and OpenAI.\n",
    "It’s as if OpenAI CEO Sam Altman saw Microsoft’s usage of CoreWeave and said, “Hold my beer.”\n",
    "Not only will OpenAI have access to the same cloud, but it will also have an ownership stake in the company that runs it.\n",
    "Microsoft is, of course, a big backer of OpenAI in a deal that entitles Microsoft to collect a portion of OpenAI’s revenue. But tensions between two companies have been rising for years, as OpenAI’s fortunes have soared. OpenAI competes with Microsoft for enterprise customers and is even reportedly working on rolling out pricey AI agents.\n",
    "In January, as part of the massive Stargate AI infrastructure deal with SoftBank, Oracle, and others, Microsoft ceased being OpenAI’s sole cloud provider. OpenAI needs more compute resources. Just last week, Altman complained that OpenAI is “out of GPUs.”\n",
    "For its part, Microsoft is working on its own AI “reasoning” models comparable to OpenAI’s o1 and o3-mini. It's developing a whole family of its own models called MAI that are competitive with OpenAI. It also hired Altman’s rival, Mustafa Suleyman, to lead Microsoft AI.\n",
    "\"\"\"\n",
    "\n",
    "summarized = summarizer.summarize(content)\n",
    "key_words = keywords.keywords(content, ratio=0.1)\n",
    "print(summarized)\n",
    "print(\"keyWords: \",key_words.replace('\\n', ', '))"
   ]
  },
  {
   "cell_type": "code",
   "execution_count": null,
   "metadata": {},
   "outputs": [],
   "source": []
  }
 ],
 "metadata": {
  "kernelspec": {
   "display_name": "venv",
   "language": "python",
   "name": "python3"
  },
  "language_info": {
   "codemirror_mode": {
    "name": "ipython",
    "version": 3
   },
   "file_extension": ".py",
   "mimetype": "text/x-python",
   "name": "python",
   "nbconvert_exporter": "python",
   "pygments_lexer": "ipython3",
   "version": "3.13.2"
  }
 },
 "nbformat": 4,
 "nbformat_minor": 2
}
